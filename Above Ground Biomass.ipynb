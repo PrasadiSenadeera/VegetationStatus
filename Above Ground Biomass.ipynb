{
 "cells": [
  {
   "cell_type": "markdown",
   "id": "6b28ad85-7e04-4315-b13e-9cf43b0d1687",
   "metadata": {
    "tags": []
   },
   "source": [
    "### Above ground biomass (AGB) for 2021"
   ]
  },
  {
   "cell_type": "markdown",
   "id": "68c3d4b3-cc18-4da0-9527-fb4441772261",
   "metadata": {},
   "source": [
    "##### Modeling Forest Structure and Aboveground Biomass (AGB) Density with Earth Observation (EO) Data and Machine Learning (ML) Techniques\n",
    "\n",
    "Description:\n",
    "This script employs Earth observation (EO) data, including Global Ecosystem Dynamics Investigation (GEDI) L4B, Sentinel-1, Sentinel-2, Copernicus elevation, and slope datasets, to create a model for Above Ground Biomass (AGB) density in forested regions of Portugal.\n",
    "\n",
    "Independent Variable:\n",
    "The GEDI L4B product provides 1 km x 1 km estimates of mean AGB density.\n",
    "\n",
    "Dependent Variables:\n",
    "1. Interquartile range (IQR) for the VV (vertical transmit and vertical receive) polarization data.\n",
    "2. Interquartile range (IQR) for the VH (vertical transmit and horizontal receive) polarization data.\n",
    "3. Slope.\n",
    "4. Elevation.\n",
    "5. Cloud-filtered median composite bands of the optical Sentinel II images.\n",
    "\n",
    "Machine Learning Method:\n",
    "The script utilizes the Random Forest (RF) classifier to model the relationship between the independent and dependent variables, facilitating the prediction of AGB density.\n",
    "\n",
    "Temporal Scope:\n",
    "The script focuses on modeling AGB density for the period from April 18, 2019, to August 4, 2021, considering the availability of GEDI data during this timeframe.Title: Modeling Forest Structure and Aboveground Biomass (AGB) Density with Earth Observation (EO) Data and Machine Learning (ML) Techniques."
   ]
  },
  {
   "cell_type": "code",
   "execution_count": 1,
   "id": "3ee00ae3-0a3d-4e08-a1a1-b2edbf73843b",
   "metadata": {},
   "outputs": [],
   "source": [
    "import os\n",
    "import subprocess\n",
    "import calendar\n",
    "from datetime import datetime\n",
    "import matplotlib.pyplot as plt\n",
    "import numpy as np\n",
    "\n",
    "# This module is for displaying results interactively:\n",
    "try:\n",
    "    import geemap\n",
    "except ImportError:\n",
    "    print('Installing geemap ...')\n",
    "    subprocess.check_call([\"python\", '-m', 'pip', 'install', 'geemap'])\n",
    "\n",
    "# Earth Engine module\n",
    "try:\n",
    "    import ee\n",
    "except ImportError:\n",
    "    print('Installing ee ...')\n",
    "    subprocess.check_call([\"python\", '-m', 'pip', 'install', 'earthengine-api'])\n",
    "    \n",
    "# This module extends Google Earth Engine functionality\n",
    "try:\n",
    "    import eemont\n",
    "except ImportError:\n",
    "    print('Installing eemont ...')\n",
    "    subprocess.check_call([\"python\", '-m', 'pip', 'install', 'eemont'])  "
   ]
  },
  {
   "cell_type": "code",
   "execution_count": 2,
   "id": "ffd172da-69d7-4907-8b92-d2de12fffaa4",
   "metadata": {},
   "outputs": [
    {
     "data": {
      "text/html": [
       "<p>To authorize access needed by Earth Engine, open the following\n",
       "        URL in a web browser and follow the instructions:</p>\n",
       "        <p><a href=https://code.earthengine.google.com/client-auth?scopes=https%3A//www.googleapis.com/auth/earthengine%20https%3A//www.googleapis.com/auth/devstorage.full_control&request_id=g4gc4CGaEoh4h8LGtTftGz2adlmgxjRZaYF5KwvM5Vc&tc=JH2yYKEnND5mJ--l5lOKbPoRPgjqcezUvWpbVacDKqY&cc=3euKkVvKE-VfPvOyjrcjw0I7G74Ky9tXEhbuxRoltFw>https://code.earthengine.google.com/client-auth?scopes=https%3A//www.googleapis.com/auth/earthengine%20https%3A//www.googleapis.com/auth/devstorage.full_control&request_id=g4gc4CGaEoh4h8LGtTftGz2adlmgxjRZaYF5KwvM5Vc&tc=JH2yYKEnND5mJ--l5lOKbPoRPgjqcezUvWpbVacDKqY&cc=3euKkVvKE-VfPvOyjrcjw0I7G74Ky9tXEhbuxRoltFw</a></p>\n",
       "        <p>The authorization workflow will generate a code, which you should paste in the box below.</p>\n",
       "        "
      ],
      "text/plain": [
       "<IPython.core.display.HTML object>"
      ]
     },
     "metadata": {},
     "output_type": "display_data"
    },
    {
     "name": "stdin",
     "output_type": "stream",
     "text": [
      "Enter verification code:  4/1AfJohXkFGS3zPfFBahOalNkvzD0xZa9E7vZcqUXRBH82B8F82gw_Xwi7Glk\n"
     ]
    },
    {
     "name": "stdout",
     "output_type": "stream",
     "text": [
      "\n",
      "Successfully saved authorization token.\n"
     ]
    }
   ],
   "source": [
    "ee.Authenticate()\n",
    "ee.Initialize()"
   ]
  },
  {
   "cell_type": "markdown",
   "id": "f7118579-aa6c-4ed3-a0a0-acc43f4a2755",
   "metadata": {},
   "source": [
    "### 1. Import Study area"
   ]
  },
  {
   "cell_type": "code",
   "execution_count": 3,
   "id": "e0534e8c-1d9b-4a3f-bfb0-e2ac827ea041",
   "metadata": {},
   "outputs": [],
   "source": [
    "featureAsset = 'projects/ee-jprasadi4u/assets/portugal'\n",
    "demarcationType = 'Freguesia'\n",
    "regionName = 'Sines'\n",
    "roi = ee.FeatureCollection(featureAsset) \\\n",
    "        .filter(ee.Filter.eq(demarcationType, regionName))"
   ]
  },
  {
   "cell_type": "markdown",
   "id": "e689e0dc-0468-4507-85af-81c51c8a6f21",
   "metadata": {},
   "source": [
    "### 2. Load raster variables (Sentinel-1, Sentinel-2, Elevation, ESA World Cover)"
   ]
  },
  {
   "cell_type": "markdown",
   "id": "c927ac1f-2657-43e0-a57a-9b022c5dfbf7",
   "metadata": {},
   "source": [
    "#### 2.1 Load Sentinel 1 (GRD) "
   ]
  },
  {
   "cell_type": "code",
   "execution_count": 4,
   "id": "93d50f4d-af2a-493c-8872-048c33bdb18d",
   "metadata": {},
   "outputs": [],
   "source": [
    "# Load Sentinel-1 for the post-rainy season.\n",
    "S1_PRS = (ee.ImageCollection('COPERNICUS/S1_GRD')\n",
    "    .filterDate('2021-04-01', '2021-07-30')\n",
    "    .filter(ee.Filter.listContains('transmitterReceiverPolarisation', 'VV'))\n",
    "    .filter(ee.Filter.listContains('transmitterReceiverPolarisation', 'VH'))\n",
    "    .filter(ee.Filter.eq('instrumentMode', 'IW'))\n",
    "    .filter(ee.Filter.eq('orbitProperties_pass', 'ASCENDING'))\n",
    "    .filterBounds(roi))"
   ]
  },
  {
   "cell_type": "markdown",
   "id": "1ecc44b7-f654-4f71-9d40-8cb95d82115a",
   "metadata": {},
   "source": [
    "Calculate the interquartile range (IQR) for the VV (vertical transmit and vertical receive) and VH (vertical transmit and horizontal receive) polarization. The IQR is a measure of Sentinel-1 backscatter variability."
   ]
  },
  {
   "cell_type": "code",
   "execution_count": 5,
   "id": "2aa9774c-9eeb-4fc4-af36-4c3de36ef37f",
   "metadata": {},
   "outputs": [],
   "source": [
    "S1_PRS_pc = S1_PRS.reduce(ee.Reducer.percentile([25, 50, 75]))\n",
    "S1_PRS_pc = ee.Image(10).pow(S1_PRS_pc.divide(10))\n",
    "S1_PRS_pc_Feats = S1_PRS_pc.select(['VH_p50', 'VV_p50']).clip(roi)\n",
    "\n",
    "# Reproject to WGS 84 UTM zone 29N\n",
    "S1_PRS_pc_Feats = S1_PRS_pc_Feats.reproject(crs='EPSG:27429', scale=30)\n",
    "\n",
    "# Calculate IQR for the VV polarization\n",
    "PRS_VV_iqr = S1_PRS_pc_Feats.addBands(\n",
    "    (S1_PRS_pc.select('VV_p75').subtract(S1_PRS_pc.select('VV_p25'))).rename('VV_iqr'))\n",
    "\n",
    "# Calculate IQR for the VH polarization\n",
    "PRS_VH_iqr = S1_PRS_pc_Feats.addBands(\n",
    "    (S1_PRS_pc.select('VH_p75').subtract(S1_PRS_pc.select('VH_p25'))).rename('VH_iqr'))"
   ]
  },
  {
   "cell_type": "markdown",
   "id": "6202903b-dbe3-42d8-9869-9f2364d0c30c",
   "metadata": {},
   "source": [
    "Visualize the VV and VH datasets."
   ]
  },
  {
   "cell_type": "code",
   "execution_count": 6,
   "id": "c8d93e01-5c98-49c6-918a-b6cd908f5825",
   "metadata": {},
   "outputs": [],
   "source": [
    "Map = geemap.Map()\n",
    "Map.addLayer(PRS_VV_iqr.clip(roi), {'bands': 'VV_iqr', min: 0,max: 0.1}, 'Sentinel-1 IW VV');\n",
    "Map.addLayer( PRS_VH_iqr.clip(roi), {'bands': 'VH_iqr', min: 0,max: 0.1}, 'Sentinel-1 IW VH');"
   ]
  },
  {
   "cell_type": "markdown",
   "id": "62d1c209-caa6-4453-936c-134fab6c6e25",
   "metadata": {},
   "source": [
    "#### 2.2 Load Sentinel II (Optical RS Data) "
   ]
  },
  {
   "cell_type": "markdown",
   "id": "2e90bc85-9f38-43a0-b53d-ca2c038ca3de",
   "metadata": {},
   "source": [
    "Define a cloud masking function using Sentinel-2 QA band.\n",
    "\n",
    "The QA60 is a bitmask band with cloud mask information (Bits 10 and 11). Bit 10 represents 'Opaque clouds,' where 0 means 'No opaque clouds' and 1 means' Opaque clouds present'. Bit 11 represents 'Cirrus clouds,' where \"0 means 'No cirrus clouds' and 1 means' Cirrus clouds present'."
   ]
  },
  {
   "cell_type": "code",
   "execution_count": 7,
   "id": "e23bf60d-7b21-49f0-a32b-6cfb8fd2e9d6",
   "metadata": {},
   "outputs": [],
   "source": [
    "def maskS2clouds(image):\n",
    "    qa = image.select('QA60')\n",
    "\n",
    "    # Bits 10 and 11 are clouds and cirrus, respectively.\n",
    "    cloudBitMask = ee.Number(2).pow(10).int()\n",
    "    cirrusBitMask = ee.Number(2).pow(11).int()\n",
    "\n",
    "    # Both flags should be set to zero, indicating clear conditions.\n",
    "    mask = qa.bitwiseAnd(cloudBitMask).eq(0).And(\n",
    "        qa.bitwiseAnd(cirrusBitMask).eq(0))\n",
    "\n",
    "    # Return the masked and scaled data.\n",
    "    return image.updateMask(mask).divide(10000)"
   ]
  },
  {
   "cell_type": "markdown",
   "id": "c0d2cb79-b322-4fde-9b6d-4c5f7ef81680",
   "metadata": {},
   "source": [
    "Filter the ImageCollection by date, cloud cover ('CLOUDY_PIXEL_PERCENTAGE'), cloud mask and selet the bands  to use."
   ]
  },
  {
   "cell_type": "code",
   "execution_count": 8,
   "id": "22c4d69a-4ad4-4fe8-b170-d8ef3a3f8b64",
   "metadata": {},
   "outputs": [],
   "source": [
    "composite = ee.ImageCollection('COPERNICUS/S2_SR') \\\n",
    "    .filterDate('2021-04-01', '2021-07-30') \\\n",
    "    .filter(ee.Filter.lt('CLOUDY_PIXEL_PERCENTAGE', 10)) \\\n",
    "    .map(maskS2clouds) \\\n",
    "    .select(['B2', 'B3', 'B4', 'B5', 'B6', 'B7', 'B8', 'B11', 'B12'])\n",
    "\n",
    "S2Composite = composite.median().clip(roi).reproject(crs='EPSG:27429', scale=30)"
   ]
  },
  {
   "cell_type": "markdown",
   "id": "a2c74a87-59c2-4660-b554-712bad72641c",
   "metadata": {},
   "source": [
    "Visualize the VV, VH datasets and optical satellite image."
   ]
  },
  {
   "cell_type": "code",
   "execution_count": 9,
   "id": "d39079d0-95b2-4846-8631-e8ef77677051",
   "metadata": {},
   "outputs": [],
   "source": [
    "Map.addLayer(S2Composite, {'bands': ['B11', 'B8', 'B3'], 'min': 0, 'max': 0.3}, 'Optical Image')"
   ]
  },
  {
   "cell_type": "markdown",
   "id": "96648021-1211-4995-8aa5-772f63944234",
   "metadata": {},
   "source": [
    "#### 2.3 Load Copernicus DEM (Digital Elevation Model and Calculate Slope )"
   ]
  },
  {
   "cell_type": "code",
   "execution_count": 10,
   "id": "3f2e9b31-ad20-4575-a32e-7d34f5a6f664",
   "metadata": {},
   "outputs": [],
   "source": [
    "Elevation = ee.ImageCollection('COPERNICUS/DEM/GLO30') \\\n",
    "    .select('DEM') \\\n",
    "    .median() \\\n",
    "    .clip(roi) \\\n",
    "    .reproject(crs='EPSG:27429', scale=30)\n",
    "\n",
    "Slope = ee.Terrain.slope(Elevation) \\\n",
    "        .clip(roi) \\\n",
    "        .reproject(crs='EPSG:27429', scale=30) \n",
    "\n",
    "max_elevation = Elevation.reduceRegion(\n",
    "    reducer=ee.Reducer.max(),\n",
    "    geometry=roi,\n",
    "    scale=30\n",
    ").get('DEM').getInfo()\n",
    "\n",
    "max_slope = Slope.reduceRegion(\n",
    "    reducer=ee.Reducer.max(),\n",
    "    geometry=roi,\n",
    "    scale=30\n",
    ").get('slope').getInfo()"
   ]
  },
  {
   "cell_type": "markdown",
   "id": "ed73a129-50aa-4092-baa1-5be65fbe6548",
   "metadata": {},
   "source": [
    "Visualize the VV, VH, optical satellite image, DEM and Slope."
   ]
  },
  {
   "cell_type": "code",
   "execution_count": 11,
   "id": "66ea368f-5a19-4ca7-a3d8-3bcb4155b0c0",
   "metadata": {},
   "outputs": [],
   "source": [
    "Map.addLayer(Elevation, {'min': 0, 'max': max_elevation, 'palette': ['blue', 'green', 'yellow', 'red']}, 'Elevation')\n",
    "Map.addLayer(Slope, {'min': 0, 'max': max_slope, 'palette': ['blue', 'green', 'yellow', 'red']}, 'Slope')"
   ]
  },
  {
   "cell_type": "markdown",
   "id": "b2fa42aa-ebfd-4c3b-b77b-2ecea3681017",
   "metadata": {},
   "source": [
    "#### 2.4  ESA World Cover (2021) [https://developers.google.com/earth-engine/datasets/catalog/ESA_WorldCover_v200#bands]"
   ]
  },
  {
   "cell_type": "code",
   "execution_count": 12,
   "id": "5702ef93-a8cd-48e4-b7ee-eab537de037e",
   "metadata": {},
   "outputs": [
    {
     "data": {
      "application/vnd.jupyter.widget-view+json": {
       "model_id": "81848ec014cf4fc88b1512cb6bda5866",
       "version_major": 2,
       "version_minor": 0
      },
      "text/plain": [
       "Map(center=[37.9500147341831, -8.783393062978497], controls=(WidgetControl(options=['position', 'transparent_b…"
      ]
     },
     "metadata": {},
     "output_type": "display_data"
    }
   ],
   "source": [
    "ESAWorldCover = ee.ImageCollection(\"ESA/WorldCover/v200\").first() \\\n",
    "                    .clip(roi)\n",
    "#Extract forest areas from the land cover\n",
    "forest_mask = ESAWorldCover.updateMask(ESAWorldCover.eq(10))\n",
    "visualization = {'bands': ['Map'], 'palette': ['008000']}\n",
    "Map.addLayer(forest_mask, visualization, \"Trees\")\n",
    "Map.centerObject(roi, 12)\n",
    "Map"
   ]
  },
  {
   "cell_type": "markdown",
   "id": "994dc68b-eab4-424e-8475-2185aee5b03f",
   "metadata": {},
   "source": [
    "### 3. Combine raster variables."
   ]
  },
  {
   "cell_type": "code",
   "execution_count": 13,
   "id": "6c85ca04-8636-4975-992e-5d99d4d5bdca",
   "metadata": {
    "tags": []
   },
   "outputs": [],
   "source": [
    "mergedCollection = (S2Composite.addBands(PRS_VV_iqr)\n",
    "    .addBands(PRS_VH_iqr)\n",
    "    .addBands(Elevation)\n",
    "    .addBands(Slope)\n",
    "    .addBands(forest_mask))\n",
    "\n",
    "# Clip to the output image to the study area boundary\n",
    "clippedMergedCollection = mergedCollection.clip(roi)\n",
    "\n",
    "# Create an object (bands) that contains all raster variables\n",
    "bands = ['B2', 'B3', 'B4', 'B5', 'B6', 'B7', 'B8', 'B11', 'B12','VV_iqr','VH_iqr', 'DEM', 'slope', 'Map']"
   ]
  },
  {
   "cell_type": "markdown",
   "id": "e50463c4-6e95-47ed-903f-b9e8ea5e669b",
   "metadata": {},
   "source": [
    "### 4. Prepare training data"
   ]
  },
  {
   "cell_type": "markdown",
   "id": "78ea992b-1538-4ac3-84bf-b60a8715bf99",
   "metadata": {},
   "source": [
    "#### 4.1 Load GEDI L4B Gridded Aboveground Biomass Density data"
   ]
  },
  {
   "cell_type": "code",
   "execution_count": 14,
   "id": "2be4f5bc-165a-4218-9485-42f9c865cec6",
   "metadata": {},
   "outputs": [],
   "source": [
    "#Mean aboveground biomass density (MU)\n",
    "l4b = ee.Image('LARSE/GEDI/GEDI04_B_002').select('MU').clip(roi).reproject(crs='EPSG:27429', scale=30)\n",
    "l4bVisualization= {'min': 10, 'max': 250, 'palette': ['#440154', '#414387', '#2a788e', '#23a884', '#7ad151', '#fde725']}\n",
    "Map = geemap.Map()\n",
    "Map.addLayer(l4b, l4bVisualization,'Mean Biomass')"
   ]
  },
  {
   "cell_type": "markdown",
   "id": "3b40b163-6a71-41d7-a9a0-c9410df3e256",
   "metadata": {},
   "source": [
    "### 4.2 Extract sample points from l4b dataset for the Random forest model"
   ]
  },
  {
   "cell_type": "code",
   "execution_count": 15,
   "id": "29d810aa-1697-4f68-a4ef-233e24038d48",
   "metadata": {},
   "outputs": [
    {
     "data": {
      "application/vnd.jupyter.widget-view+json": {
       "model_id": "7f143c7f4fa043d5967e94d8c50b9a68",
       "version_major": 2,
       "version_minor": 0
      },
      "text/plain": [
       "Map(center=[37.9500147341831, -8.783393062978497], controls=(WidgetControl(options=['position', 'transparent_b…"
      ]
     },
     "metadata": {},
     "output_type": "display_data"
    }
   ],
   "source": [
    "points = l4b.sample(\n",
    "    region=roi,\n",
    "    scale=100,\n",
    "    numPixels=1000,\n",
    "    geometries=True\n",
    ")\n",
    "Map.addLayer(points, {'color': 'red'}, 'Sampled Points')\n",
    "Map.centerObject(roi, 12)\n",
    "Map"
   ]
  },
  {
   "cell_type": "markdown",
   "id": "41fad640-b750-411a-86d8-249d9e0b4864",
   "metadata": {},
   "source": [
    "#### 4.3 Split data for training (70%) and validation (30%)"
   ]
  },
  {
   "cell_type": "code",
   "execution_count": 16,
   "id": "f51f9db7-0799-412f-b906-10f41a63f7b0",
   "metadata": {},
   "outputs": [],
   "source": [
    "dataWithColumn = points.randomColumn('random', 27)\n",
    "\n",
    "# Split the training data set into training (70%) and validation or test (30%)\n",
    "split = 0.7\n",
    "trainingData = dataWithColumn.filter(ee.Filter.lt('random', split))\n",
    "validationData = dataWithColumn.filter(ee.Filter.gte('random', split))"
   ]
  },
  {
   "cell_type": "markdown",
   "id": "9b5fc20c-6018-42d6-a3d8-5dc64108036b",
   "metadata": {},
   "source": [
    "### 5. Train the random forest (RF) model"
   ]
  },
  {
   "cell_type": "code",
   "execution_count": 17,
   "id": "e2cd1b7b-177c-4217-a831-4e904b5d17f4",
   "metadata": {},
   "outputs": [],
   "source": [
    "training = clippedMergedCollection.select(bands).sampleRegions(\n",
    "    collection=trainingData,\n",
    "    properties=['MU'],\n",
    "    scale=10\n",
    ")\n",
    "\n",
    "# Train a random forest classifier for regression\n",
    "classifier = ee.Classifier.smileRandomForest(100) \\\n",
    "    .setOutputMode('REGRESSION') \\\n",
    "    .train(\n",
    "        features=training,\n",
    "        classProperty=\"MU\",\n",
    "        inputProperties=bands\n",
    "    )\n",
    "\n",
    "# Run the classification and clip it to the boundary\n",
    "regression = clippedMergedCollection.select(bands).classify(classifier, 'predicted').clip(roi)"
   ]
  },
  {
   "cell_type": "code",
   "execution_count": 18,
   "id": "397c20c8-6fa5-496e-b970-687b2eef8228",
   "metadata": {},
   "outputs": [
    {
     "data": {
      "application/vnd.jupyter.widget-view+json": {
       "model_id": "ee717c5743004dd293cd18565a46d0b0",
       "version_major": 2,
       "version_minor": 0
      },
      "text/plain": [
       "Map(center=[37.9500147341831, -8.783393062978497], controls=(WidgetControl(options=['position', 'transparent_b…"
      ]
     },
     "metadata": {},
     "output_type": "display_data"
    }
   ],
   "source": [
    "# get dictionaries of min & max predicted value\n",
    "regression_min = regression.reduceRegion(\n",
    "    reducer=ee.Reducer.min(),\n",
    "    scale=30,\n",
    "    crs='EPSG:32735',\n",
    "    geometry=roi,\n",
    "    bestEffort=True,\n",
    "    tileScale=5\n",
    ")\n",
    "\n",
    "regression_max = regression.reduceRegion(\n",
    "    reducer=ee.Reducer.max(),\n",
    "    scale=30,\n",
    "    crs='EPSG:32735',\n",
    "    geometry=roi,\n",
    "    bestEffort=True,\n",
    "    tileScale=5\n",
    ")\n",
    "\n",
    "\n",
    "visParamsAGBD = {\n",
    "    'min': regression_min.getInfo()['predicted'],\n",
    "    'max': regression_max.getInfo()['predicted'],\n",
    "    'palette': ['#440154', '#414387', '#2a788e', '#23a884', '#7ad151', '#fde725'],\n",
    "}\n",
    "\n",
    "#megagrams per hectare (Mg/ha)\n",
    "# Create a Map\n",
    "Map = geemap.Map()\n",
    "Map.addLayer(regression, {'palette': ['#440154', '#414387', '#2a788e', '#23a884', '#7ad151', '#fde725'], 'min': regression_min.getInfo()['predicted'], 'max': regression_max.getInfo()['predicted']}, 'Above Ground Biomass Density')\n",
    "Map.centerObject(roi, 12)\n",
    "Map.add_colorbar(visParamsAGBD, label=\"Above Groud Biomass Density (Mg/ha)\" , orientation=\"horizontal\")\n",
    "Map.addLayerControl()\n",
    "Map"
   ]
  },
  {
   "cell_type": "markdown",
   "id": "8424250a-72b7-4a32-8720-aabe76a8b60d",
   "metadata": {},
   "source": [
    "### 6. Calcuate the variable importance "
   ]
  },
  {
   "cell_type": "code",
   "execution_count": 19,
   "id": "666e88f6-5649-4da5-bd87-a3f598da897c",
   "metadata": {},
   "outputs": [
    {
     "data": {
      "image/png": "[encoded data removed]",
      "text/plain": [
       "<Figure size 640x480 with 2 Axes>"
      ]
     },
     "metadata": {},
     "output_type": "display_data"
    }
   ],
   "source": [
    "# Check model performance\n",
    "classifier_details = classifier.explain()\n",
    "\n",
    "# Explain the classifier with importance values\n",
    "variable_importance = ee.Feature(None, ee.Dictionary(classifier_details).get('importance'))\n",
    "\n",
    "# Get the data as a dictionary\n",
    "importance_dict = variable_importance.getInfo()['properties']\n",
    "importance_dict.pop('Map', None)\n",
    "importance_dict['VV Polarization'] = importance_dict.pop('VV_iqr', None)\n",
    "importance_dict['VH Polarization'] = importance_dict.pop('VH_iqr', None)\n",
    "\n",
    "bands = list(importance_dict.keys())\n",
    "importance = list(importance_dict.values()) \n",
    "\n",
    "# Extract bands and importance values\n",
    "cmap = plt.cm.get_cmap('plasma')\n",
    "normalized_importance = np.array(importance) / max(importance)\n",
    "bars = plt.bar(bands, importance, color=cmap(normalized_importance), edgecolor='black', width=0.7, align='center')\n",
    "\n",
    "# Add colorbar for reference\n",
    "sm = plt.cm.ScalarMappable(cmap=cmap, norm=plt.Normalize(0, 1))\n",
    "sm.set_array([]) \n",
    "cbar = plt.colorbar(sm)\n",
    "cbar.set_label('Importance')\n",
    "\n",
    "# Set axis labels and title\n",
    "plt.xlabel('Bands', fontsize=8)\n",
    "plt.ylabel('Importance', fontsize=8)\n",
    "plt.xticks(rotation='vertical', fontsize=10)\n",
    "plt.yticks(fontsize=10)\n",
    "plt.title('Random Forest Variable Importance', fontsize=10)\n",
    "plt.tight_layout()\n",
    "\n",
    "# Show the plot\n",
    "plt.show()"
   ]
  },
  {
   "cell_type": "markdown",
   "id": "0236c1fd-bbb9-4a49-a2f6-c82108b846d1",
   "metadata": {},
   "source": [
    "### 7. Accuracy assessment"
   ]
  },
  {
   "cell_type": "markdown",
   "id": "1750edab-50db-4ca7-94d4-52fb58d6a1ca",
   "metadata": {},
   "source": [
    "#### 7.2 Predicted vs Observed plot for Training data"
   ]
  },
  {
   "cell_type": "code",
   "execution_count": 20,
   "id": "048403ba-398f-4881-9ec2-ade9a3be7f11",
   "metadata": {},
   "outputs": [
    {
     "data": {
      "image/png": "[encoded data removed]",
      "text/plain": [
       "<Figure size 640x480 with 1 Axes>"
      ]
     },
     "metadata": {},
     "output_type": "display_data"
    }
   ],
   "source": [
    "predicted_training = regression.sampleRegions(collection=trainingData, scale=30, geometries=True)\n",
    "\n",
    "# Separate the observed ('MU') and predicted ('predicted') properties\n",
    "sample_training = predicted_training.select(['MU', 'predicted'])\n",
    "\n",
    "# Get the 'MU' and 'predicted' properties as numpy arrays\n",
    "observed_values = np.array(predicted_training.aggregate_array('MU').getInfo())\n",
    "predicted_values = np.array(predicted_training.aggregate_array('predicted').getInfo())\n",
    "\n",
    "# Create a scatter plot\n",
    "plt.scatter(observed_values, predicted_values, s=20, c='blue', alpha=0.7)\n",
    "\n",
    "# Add a trendline\n",
    "z = np.polyfit(observed_values, predicted_values, 1)\n",
    "p = np.poly1d(z)\n",
    "plt.plot(observed_values, p(observed_values), 'r--')\n",
    "\n",
    "# Set axis labels and title\n",
    "plt.xlabel('Observed')\n",
    "plt.ylabel('Predicted')\n",
    "plt.title('Predicted vs Observed - Training data')\n",
    "\n",
    "# Show the plot\n",
    "plt.show()"
   ]
  },
  {
   "cell_type": "markdown",
   "id": "601eaf26-31af-4f2b-ad40-9c1d6927f7ac",
   "metadata": {},
   "source": [
    "#### 7.2 Predicted vs Observed plot for Validation data"
   ]
  },
  {
   "cell_type": "code",
   "execution_count": 21,
   "id": "e5164cd1-b9ea-47d9-9cb2-fb79684b717b",
   "metadata": {},
   "outputs": [
    {
     "data": {
      "image/png": "[encoded data removed]",
      "text/plain": [
       "<Figure size 640x480 with 1 Axes>"
      ]
     },
     "metadata": {},
     "output_type": "display_data"
    }
   ],
   "source": [
    "# Get predicted regression points in the same location as validation data\n",
    "predicted_validation = regression.sampleRegions(collection=validationData, scale=30, geometries=True)\n",
    "\n",
    "# Separate the observed ('MU') and predicted ('predicted') properties\n",
    "sample_validation = predicted_validation.select(['MU', 'predicted'])\n",
    "plt.scatter(sample_validation.aggregate_array('predicted').getInfo(), sample_validation.aggregate_array('MU').getInfo(), s=3, c='blue', alpha=0.7)\n",
    "z = np.polyfit(sample_validation.aggregate_array('predicted').getInfo(), sample_validation.aggregate_array('MU').getInfo(), 1)\n",
    "p = np.poly1d(z)\n",
    "plt.plot(sample_validation.aggregate_array('predicted').getInfo(), p(sample_validation.aggregate_array('predicted').getInfo()), 'r--')\n",
    "\n",
    "# Set axis labels and title\n",
    "plt.xlabel('Predicted')\n",
    "plt.ylabel('Observed')\n",
    "plt.title('Predicted vs Observed - Validation data')\n",
    "\n",
    "# Show the plot\n",
    "plt.show()"
   ]
  },
  {
   "cell_type": "markdown",
   "id": "2b7b1787-9b7a-4c49-85c6-da65e7dfb1ef",
   "metadata": {},
   "source": [
    "#### 7.3 Compute RMS Error"
   ]
  },
  {
   "cell_type": "code",
   "execution_count": 22,
   "id": "afbad395-4cc6-40bf-84a1-4e8db7ce0da1",
   "metadata": {},
   "outputs": [
    {
     "name": "stdout",
     "output_type": "stream",
     "text": [
      "Validation RMSE [15.204060626160215]\n"
     ]
    }
   ],
   "source": [
    "observation_validation = ee.Array(sample_validation.aggregate_array('MU'))\n",
    "prediction_validation = ee.Array(sample_validation.aggregate_array('predicted'))\n",
    "\n",
    "# Compute residuals\n",
    "residuals_validation = observation_validation.subtract(prediction_validation)\n",
    "rmse_validation = residuals_validation.pow(2).reduce(ee.Reducer.mean(), [0]).sqrt()\n",
    "\n",
    "# Print the RMSE\n",
    "print('Validation RMSE', rmse_validation.getInfo())"
   ]
  }
 ],
 "metadata": {
  "kernelspec": {
   "display_name": "Python 3 (ipykernel)",
   "language": "python",
   "name": "python3"
  },
  "language_info": {
   "codemirror_mode": {
    "name": "ipython",
    "version": 3
   },
   "file_extension": ".py",
   "mimetype": "text/x-python",
   "name": "python",
   "nbconvert_exporter": "python",
   "pygments_lexer": "ipython3",
   "version": "3.9.18"
  }
 },
 "nbformat": 4,
 "nbformat_minor": 5
}
